{
 "cells": [
  {
   "cell_type": "code",
   "execution_count": null,
   "outputs": [],
   "source": [
    "# Workforce Scheduling for Anonymous Bank Call Center (Python)\n",
    "\n",
    "# prepare for Python version 3x features and functions\n",
    "from __future__ import division, print_function\n",
    "\n",
    "# import packages for analysis and modeling\n",
    "import pandas as pd  # data frame operations\n",
    "import numpy as np  # arrays and math functions\n",
    "import datetime"
   ],
   "metadata": {
    "collapsed": false,
    "pycharm": {
     "name": "#%%\n"
    }
   }
  },
  {
   "cell_type": "code",
   "execution_count": null,
   "outputs": [],
   "source": [
    "# conda install -c r rpy2\n",
    "# from rpy2.robjects import r  # interface from Python to R\n",
    "\n",
    "\n",
    "# Erlang C queueing theory\n",
    "# input c = number of servers (positive integer)\n",
    "#       r = ratio of arrival rate over service rate\n",
    "# output = probability of waiting in queue (min 0, max 1)\n",
    "# adapted from Pedro Canadilla (2014) function\n",
    "# C_erlang in the R queueing package\n",
    "\n",
    "\n",
    "def erlang_c(c=1, r=0):\n",
    "\tif c <= 0:\n",
    "\t\treturn 1\n",
    "\tif r <= 0:\n",
    "\t\treturn 0\n",
    "\tc = int(c)\n",
    "\ttot = 1\n",
    "\tfor i in range(c - 1):\n",
    "\t\ti = i + 1\n",
    "\t\ttot = 1 + (tot * i * (1 / r))\n",
    "\treturn max(0, min(1, (r * (1 / tot)) / (c - (r * (1 - (1 / tot))))))\n",
    "\n",
    "\n",
    "# focus upon February 1999\n",
    "call_center_input_data = pd.read_table('data_anonymous_bank_february.txt')\n",
    "# examine the structure of these data\n",
    "print(call_center_input_data.head)"
   ],
   "metadata": {
    "collapsed": false,
    "pycharm": {
     "name": "#%%\n"
    }
   }
  },
  {
   "cell_type": "code",
   "execution_count": null,
   "outputs": [],
   "source": [
    "# delete PHANTOM calls\n",
    "call_center_data = \\\n",
    "\tcall_center_input_data[call_center_input_data['outcome'] != 'PHANTOM']\n",
    "\n",
    "# negative VRU times make no sense... drop these rows from data frame\n",
    "call_center_data = call_center_data[call_center_data['vru_time'] >= 0]\n",
    "\n",
    "# calculate wait time as sum of vru_time and q_time\n",
    "call_center_data['wait_time'] = call_center_data['vru_time'] + call_center_data['q_time']\n",
    "\n",
    "# define date variable with apply and lambda function\n",
    "call_center_data['date'] = \\\n",
    "\tcall_center_data['date'] \\\n",
    "\t\t.apply(lambda d: datetime.datetime.strptime(str(d), '%y%m%d'))\n",
    "\n",
    "# define day of week as an integer 0 = Monday 6 = Sunday\n",
    "call_center_data['day_of_week'] = \\\n",
    "\tcall_center_data['date'].apply(lambda d: d.weekday())\n",
    "# use dictionary object for mapping day_of_week to string\n",
    "day_of_week_to_string = {0: 'Monday',\n",
    "                         1: 'Tuesday',\n",
    "                         2: 'Wednesday',\n",
    "                         3: 'Thursday',\n",
    "                         4: 'Friday',\n",
    "                         5: 'Saturday',\n",
    "                         6: 'Sunday'}"
   ],
   "metadata": {
    "collapsed": false,
    "pycharm": {
     "name": "#%%\n"
    }
   }
  },
  {
   "cell_type": "code",
   "execution_count": null,
   "outputs": [],
   "source": [
    "call_center_data['day_of_week'] = \\\n",
    "\tcall_center_data['day_of_week'].map(day_of_week_to_string)\n",
    "# check structure and contents of the data frame\n",
    "print(call_center_data.head)"
   ],
   "metadata": {
    "collapsed": false,
    "pycharm": {
     "name": "#%%\n"
    }
   }
  },
  {
   "cell_type": "code",
   "execution_count": null,
   "outputs": [],
   "source": [
    "# examine frequency of calls by day of week\n",
    "print(call_center_data['day_of_week'].value_counts())"
   ],
   "metadata": {
    "collapsed": false,
    "pycharm": {
     "name": "#%%\n"
    }
   }
  },
  {
   "cell_type": "code",
   "execution_count": null,
   "outputs": [],
   "source": [
    "# identify the hour of entry into the system\n",
    "call_center_data['vru_entry'] = \\\n",
    "\tcall_center_data['vru_entry'] \\\n",
    "\t\t.apply(lambda d: datetime.datetime.strptime(str(d), '%H:%M:%S'))\n",
    "call_center_data['call_hour'] = \\\n",
    "\tcall_center_data['vru_entry'].apply(lambda d: d.hour)\n",
    "\n",
    "# check frequency of calls in February by hour and day of week\n",
    "# note that pandas alphabetizes on output\n",
    "print(pd.crosstab(call_center_data['day_of_week'],\n",
    "                  call_center_data['call_hour'],\n",
    "                  margins=False))"
   ],
   "metadata": {
    "collapsed": false,
    "pycharm": {
     "name": "#%%\n"
    }
   }
  },
  {
   "cell_type": "code",
   "execution_count": null,
   "outputs": [],
   "source": [
    "# create an ordered table for Frequency of calls\n",
    "table_data = call_center_data.loc[:, ['day_of_week', 'call_hour']]\n",
    "day_of_week_to_ordered_day_of_week = {'Monday': '2_Monday',\n",
    "                                      'Tuesday': '3_Tuesday',\n",
    "                                      'Wednesday': '4_Wednesday',\n",
    "                                      'Thursday': '5_Thursday',\n",
    "                                      'Friday': '6_Friday',\n",
    "                                      'Saturday': '7_Saturday',\n",
    "                                      'Sunday': '1_Sunday'}\n",
    "\n",
    "table_data['ordered_day_of_week'] = \\\n",
    "\ttable_data['day_of_week'].map(day_of_week_to_ordered_day_of_week)\n",
    "print(\"pd.crosstab is \\n\", pd.crosstab(table_data['ordered_day_of_week'], \\\n",
    "                  table_data['call_hour'], margins=False))"
   ],
   "metadata": {
    "collapsed": false,
    "pycharm": {
     "name": "#%%\n"
    }
   }
  },
  {
   "cell_type": "code",
   "execution_count": null,
   "outputs": [],
   "source": [
    "# select first week of February 1999 for data visualization and analysis\n",
    "# that week began on Monday, February 1 and ended on Sunday, February 7\n",
    "selected_week = call_center_data[call_center_data['date'] < datetime.datetime(1999, 2, 8)]\n",
    "\n",
    "print(\"pd.cross is \\n\", \"pd.selected_week.head is\", selected_week.head)"
   ],
   "metadata": {
    "collapsed": false,
    "pycharm": {
     "name": "#%%\n"
    }
   }
  },
  {
   "cell_type": "code",
   "execution_count": null,
   "outputs": [],
   "source": [
    "# wait-time ribbons were created with R ggplot2 software\n",
    "# Python packages ggplot or rpy2 could be used for plotting\n",
    "\n",
    "# select Wednesdays in February for the queueing model\n",
    "wednesdays = call_center_data[call_center_data['day_of_week'] == \\\n",
    "                              'Wednesday']\n",
    "print(wednesdays.head)"
   ],
   "metadata": {
    "collapsed": false,
    "pycharm": {
     "name": "#%%\n"
    }
   }
  },
  {
   "cell_type": "code",
   "execution_count": null,
   "outputs": [],
   "source": [
    "# arrival rate as average number of calls into VRU per hour\n",
    "arrived_for_hour = wednesdays['call_hour'].value_counts()\n",
    "check_hourly_arrival_rate = arrived_for_hour / 4  # four Wednesdays in February 1999\n",
    "print(check_hourly_arrival_rate)"
   ],
   "metadata": {
    "collapsed": false,
    "pycharm": {
     "name": "#%%\n"
    }
   }
  },
  {
   "cell_type": "code",
   "execution_count": null,
   "outputs": [],
   "source": [
    "# organize hourly arrival rates according to 24-hour clock\n",
    "hourly_arrival_rate = [6.75, 1.75, 1.25, 0.00, 0.50, 0.25,\n",
    "                       4.75, 39.50, 97.25, 107.50, 124.00, 110.25, 95.50,\n",
    "                       203.50, 115.75, 115.50, 67.75, 75.00, 88.75,\n",
    "                       85.50, 68.00, 61.50, 57.50, 44.25]\n",
    "\n",
    "# service times may vary hour-by-hour due to differences\n",
    "# in service requests and individuals calling hour-by-hour\n",
    "# begin by selecting calls that receive service\n",
    "wednesdays_served = wednesdays[wednesdays['server'] != 'NO_SERVER']\n",
    "print(wednesdays_served.head)\n",
    "\n"
   ],
   "metadata": {
    "collapsed": false,
    "pycharm": {
     "name": "#%%\n"
    }
   }
  },
  {
   "cell_type": "code",
   "execution_count": null,
   "outputs": [],
   "source": [
    "hourly_mean_service_time = \\\n",
    "\twednesdays_served.pivot_table('ser_time', columns=['call_hour'], aggfunc='mean', margins=False)\n",
    "\n",
    "# hourly service rate given the current numbers of service operators\n",
    "served_for_hour = wednesdays_served['call_hour'].value_counts()\n",
    "print(served_for_hour)\n"
   ],
   "metadata": {
    "collapsed": false,
    "pycharm": {
     "name": "#%%\n"
    }
   }
  },
  {
   "cell_type": "code",
   "execution_count": null,
   "outputs": [],
   "source": [
    "# compute service rate noting that there are 3600 seconds in an hour\n",
    "# adding 60 seconds to each mean service time for time between calls\n",
    "# this 60 seconds is the wrap up time or time an service agent remains\n",
    "# unavailable to answer a new call after a call has been completed\n",
    "mean_hourly_service_rate = 3600 / (hourly_mean_service_time.mean() + 60)\n",
    "print('\\nHourly Service Rate for Wednesdays:', round(mean_hourly_service_rate, 3))"
   ],
   "metadata": {
    "collapsed": false,
    "pycharm": {
     "name": "#%%\n"
    }
   }
  },
  {
   "cell_type": "code",
   "execution_count": null,
   "outputs": [],
   "source": [
    "\n",
    "# use 15 calls per hour as the rate for one service operator\n",
    "SERVICE_RATE = 15\n",
    "\n",
    "# use a target for the probability of waiting in queue to be 0.50\n",
    "PROBABILITY_GOAL = 0.50\n",
    "\n",
    "# Erlang C queueing calculations with Python erlang_c function\n",
    "# inputs c = number of servers\n",
    "#        r = ratio of rate of arrivals and rate of service\n",
    "# returns the probability of waiting in queue because all servers are busy\n",
    "# use while-loop iteration to determine the number of servers needed\n",
    "# we do this for each hour of the day knowing the hourly arrival rate\n",
    "servers_needed = [0] * 24\n",
    "for index_for_hour in range(24):\n",
    "\tif hourly_arrival_rate[index_for_hour] > 0:\n",
    "\t\terlang_probability = 1  # initialize on entering while-loop\n",
    "\t\twhile erlang_probability > PROBABILITY_GOAL:\n",
    "\t\t\tservers_needed[index_for_hour] = servers_needed[index_for_hour] + 1\n",
    "\t\t\terlang_probability = \\\n",
    "\t\t\t\terlang_c(c=servers_needed[index_for_hour],\n",
    "\t\t\t\t         r=hourly_arrival_rate[index_for_hour] / SERVICE_RATE)\n",
    "\n",
    "\n",
    "print(servers_needed)  # check queueing theory result\n",
    "# the result for servers.needed is obtained as\n",
    "# 1  1  1  0  1  1  1  4  8  9 10  9  8 16 10 10  6  7  8  8  6  6  5  4\n",
    "# we will assume the bank call center will be closed hours 00 through 05\n",
    "# but use the other values as the bank's needed numbers of servers\n",
    "for index_for_hour in range(6):\n",
    "\tservers_needed[index_for_hour] = 0\n",
    "print('\\nHourly Operator Requirements:\\n', servers_needed)\n",
    "\n",
    "# read in case data for the structure of call center worker shifts\n",
    "bank_shifts_data_frame = pd.read_csv(\"data_anonymous_bank_shifts.csv\")\n",
    "# examine the structure of these data\n",
    "print(bank_shifts_data_frame.head)\n",
    "\n",
    "# constraint matrix as required for mathematical programming\n",
    "constraint_matrix = np.array(bank_shifts_data_frame)[:, 2:]\n",
    "# we will create this type of object on the R side as well\n",
    "\n",
    "# six-hour shift salaries in Israeli sheqels\n",
    "# 1 ILS = 3.61 USD in June 2013\n",
    "# these go into the objective function for integer programing\n",
    "# with the objective of minimizing total costs\n",
    "cost_vector = [252, 288, 180, 180, 180, 288, 288, 288]\n",
    "\n",
    "# install lpsolove package and drivers for Python\n",
    "# noting the operating system being used\n",
    "# or use rpy2 access to lpSolve in R as shown here\n",
    "\n",
    "# assign lists from Python to R using rpy2\n",
    "r.assign('servers_needed_R', servers_needed)\n",
    "r.assign('cost_vector_R', cost_vector)\n",
    "\n",
    "r('bank.shifts.data.frame <- read.csv(\"data_anonymous_bank_shifts.csv\")')\n",
    "r('constraint_matrix_R <- as.matrix(bank.shifts.data.frame[,3:10])')\n",
    "\n",
    "# check mathematical programming inputs on the R side\n",
    "r('print(as.numeric(unlist(servers_needed_R)))')\n",
    "r('print(as.numeric(unlist(cost_vector_R)))')\n",
    "r('print(constraint_matrix_R)')\n",
    "\n",
    "# solve the mathematical programming problem\n",
    "r('library(lpSolve)')\n",
    "r('call_center_schedule <- lp(const.mat=constraint_matrix_R,\\\n",
    "    const.rhs = as.numeric(unlist(servers_needed_R)),\\\n",
    "    const.dir = rep(\">=\", times = 8),\\\n",
    "    int.vec = 1:8,\\\n",
    "    objective = as.numeric(unlist(cost_vector_R)),\\\n",
    "    direction = \"min\")')\n",
    "\n",
    "# prepare summary of the results for the call center problem\n",
    "# working on the R side\n",
    "r('ShiftID <- 1:8')\n",
    "r('StartTime <- c(0,6,8,10,12,2,4,6)')\n",
    "# c(\"Midnight\",\"6 AM\",\"8 AM\",\"10 AM\",\"Noon\",\"2 PM\",\"4 PM\",\"6 PM\")\n",
    "r('ShiftDuration <- rep(6,times=8)')\n",
    "r('HourlyShiftSalary <- c(42,48,30,30,30,48,48,48)')\n",
    "r('HourlyShiftCost <- call_center_schedule$objective')  # six x hourly shift salary\n",
    "r('Solution <- call_center_schedule$solution')\n",
    "r('ShiftCost <- call_center_schedule$solution * call_center_schedule$objective')\n",
    "r('call_center_summary <- \\\n",
    "  data.frame(ShiftID,StartTime,ShiftDuration,HourlyShiftSalary,\\\n",
    "  HourlyShiftCost,Solution,ShiftCost)')\n",
    "r('cat(\"\\n\\n\",\"Call Center Summary\",\"\\n\\n\")')\n",
    "r('print(call_center_summary)')\n",
    "r('print(call_center_schedule)')\n",
    "\n",
    "# alternatively... bring the solution from R to Python\n",
    "# and print the minimum-cost solution on the Python side\n",
    "call_center_schedule = r('call_center_schedule')\n",
    "print(call_center_schedule)\n",
    "\n",
    "# Suggestion for the student:\n",
    "# Attack the problem using discrete event simulation,\n",
    "# perhaps drawing on the SimPy package.\n",
    "# Try running a sensitivity test, varying the workforce requirements\n",
    "# and noting the effect upon the optimal assignment of workers to shifts.\n",
    "# This can be done in a Python for-loop.\n"
   ],
   "metadata": {
    "collapsed": false,
    "pycharm": {
     "name": "#%%\n"
    }
   }
  }
 ],
 "metadata": {
  "kernelspec": {
   "display_name": "Python 3",
   "language": "python",
   "name": "python3"
  },
  "language_info": {
   "codemirror_mode": {
    "name": "ipython",
    "version": 2
   },
   "file_extension": ".py",
   "mimetype": "text/x-python",
   "name": "python",
   "nbconvert_exporter": "python",
   "pygments_lexer": "ipython2",
   "version": "2.7.6"
  }
 },
 "nbformat": 4,
 "nbformat_minor": 0
}