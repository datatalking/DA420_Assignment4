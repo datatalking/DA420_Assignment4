{
 "cells": [
  {
   "cell_type": "code",
   "execution_count": 89,
   "metadata": {
    "collapsed": true,
    "pycharm": {
     "name": "#%%\n"
    }
   },
   "outputs": [],
   "source": [
    "# Workforce Scheduling for Anonymous Bank Call Center (Python)\n",
    "\n",
    "# prepare for Python version 3x features and functions\n",
    "from __future__ import division, print_function\n",
    "\n",
    "# import packages for analysis and modeling\n",
    "import pandas as pd  # data frame operations\n",
    "import numpy as np  # arrays and math functions\n",
    "import datetime"
   ]
  },
  {
   "cell_type": "code",
   "execution_count": 90,
   "outputs": [
    {
     "name": "stdout",
     "output_type": "stream",
     "text": [
      "<bound method NDFrame.head of       vru+line  call_id  customer_id  priority type    date vru_entry  \\\n",
      "0       AA0101    34536          0.0         0   PS  990201   7:02:47   \n",
      "1       AA0101    34537          0.0         0   PS  990201   7:31:45   \n",
      "2       AA0101    34538          0.0         0   NW  990201   7:54:38   \n",
      "3       AA0101    34539   23317894.0         2   PS  990201   8:09:16   \n",
      "4       AA0101    34540   48178511.0         2   PS  990201   8:19:42   \n",
      "...        ...      ...          ...       ...  ...     ...       ...   \n",
      "33339   AA0216     5607          0.0         0   IN  990226  14:14:43   \n",
      "33340   AA0216     5608          0.0         0   IN  990226  14:33:45   \n",
      "33341   AA0216     5609          0.0         0   IN  990228  11:29:39   \n",
      "33342   AA0216     5610          0.0         0   IN  990228  12:18:20   \n",
      "33343   AA0216     5611          0.0         0   IN  990228  16:01:22   \n",
      "\n",
      "       vru_exit  vru_time   q_start    q_exit  q_time outcome ser_start  \\\n",
      "0       7:02:56         9   0:00:00   0:00:00       0   AGENT   7:02:55   \n",
      "1       7:31:55        10   0:00:00   0:00:00       0   AGENT   7:31:54   \n",
      "2       7:54:51        13   0:00:00   0:00:00       0   AGENT   7:54:49   \n",
      "3       8:09:22         6   8:09:22   8:09:27       5    HANG   0:00:00   \n",
      "4       8:19:47         5   8:19:47   8:20:21      34   AGENT   8:20:20   \n",
      "...         ...       ...       ...       ...     ...     ...       ...   \n",
      "33339  14:15:05        22   0:00:00   0:00:00       0    HANG   0:00:00   \n",
      "33340  14:33:50         5   0:00:00   0:00:00       0    HANG   0:00:00   \n",
      "33341  11:29:48         9  11:29:48  11:33:39     231    HANG   0:00:00   \n",
      "33342  12:18:30        10  12:18:30  12:18:49      19   AGENT  12:18:48   \n",
      "33343  16:01:32        10  16:01:32  16:09:25     473    HANG   0:00:00   \n",
      "\n",
      "       ser_exit  ser_time     server  \n",
      "0       7:05:41       166      DORIT  \n",
      "1       7:31:59         5  NO_SERVER  \n",
      "2       7:56:21        92       TOVA  \n",
      "3       0:00:00         0  NO_SERVER  \n",
      "4       8:22:04       104     MICHAL  \n",
      "...         ...       ...        ...  \n",
      "33339   0:00:00         0  NO_SERVER  \n",
      "33340   0:00:00         0  NO_SERVER  \n",
      "33341   0:00:00         0  NO_SERVER  \n",
      "33342  12:22:54       246       YITZ  \n",
      "33343   0:00:00         0  NO_SERVER  \n",
      "\n",
      "[33344 rows x 17 columns]>\n"
     ]
    }
   ],
   "source": [
    "# conda install -c r rpy2\n",
    "# from rpy2.robjects import r  # interface from Python to R\n",
    "\n",
    "\n",
    "# Erlang C queueing theory\n",
    "# input c = number of servers (positive integer)\n",
    "#       r = ratio of arrival rate over service rate\n",
    "# output = probability of waiting in queue (min 0, max 1)\n",
    "# adapted from Pedro Canadilla (2014) function\n",
    "# C_erlang in the R queueing package\n",
    "\n",
    "\n",
    "def erlang_c(c=1, r=0):\n",
    "\tif c <= 0:\n",
    "\t\treturn 1\n",
    "\tif r <= 0:\n",
    "\t\treturn 0\n",
    "\tc = int(c)\n",
    "\ttot = 1\n",
    "\tfor i in range(c - 1):\n",
    "\t\ti = i + 1\n",
    "\t\ttot = 1 + (tot * i * (1 / r))\n",
    "\treturn max(0, min(1, (r * (1 / tot)) / (c - (r * (1 - (1 / tot))))))\n",
    "\n",
    "\n",
    "# focus upon February 1999\n",
    "call_center_input_data = pd.read_table('data_anonymous_bank_february.txt')\n",
    "# examine the structure of these data\n",
    "print(call_center_input_data.head)"
   ],
   "metadata": {
    "collapsed": false,
    "pycharm": {
     "name": "#%%\n"
    }
   }
  },
  {
   "cell_type": "code",
   "execution_count": 91,
   "outputs": [],
   "source": [
    "# delete PHANTOM calls\n",
    "call_center_data = \\\n",
    "\tcall_center_input_data[call_center_input_data['outcome'] != 'PHANTOM']\n",
    "\n",
    "# negative VRU times make no sense... drop these rows from data frame\n",
    "call_center_data = call_center_data[call_center_data['vru_time'] >= 0]\n",
    "\n",
    "# calculate wait time as sum of vru_time and q_time\n",
    "call_center_data['wait_time'] = call_center_data['vru_time'] + call_center_data['q_time']\n",
    "\n",
    "# define date variable with apply and lambda function\n",
    "call_center_data['date'] = \\\n",
    "\tcall_center_data['date'] \\\n",
    "\t\t.apply(lambda d: datetime.datetime.strptime(str(d), '%y%m%d'))\n",
    "\n",
    "# define day of week as an integer 0 = Monday 6 = Sunday\n",
    "call_center_data['day_of_week'] = \\\n",
    "\tcall_center_data['date'].apply(lambda d: d.weekday())\n",
    "# use dictionary object for mapping day_of_week to string\n",
    "day_of_week_to_string = {0: 'Monday',\n",
    "                         1: 'Tuesday',\n",
    "                         2: 'Wednesday',\n",
    "                         3: 'Thursday',\n",
    "                         4: 'Friday',\n",
    "                         5: 'Saturday',\n",
    "                         6: 'Sunday'}"
   ],
   "metadata": {
    "collapsed": false,
    "pycharm": {
     "name": "#%%\n"
    }
   }
  },
  {
   "cell_type": "code",
   "execution_count": 92,
   "outputs": [
    {
     "name": "stdout",
     "output_type": "stream",
     "text": [
      "<bound method NDFrame.head of       vru+line  call_id  customer_id  priority type       date vru_entry  \\\n",
      "0       AA0101    34536          0.0         0   PS 1999-02-01   7:02:47   \n",
      "1       AA0101    34537          0.0         0   PS 1999-02-01   7:31:45   \n",
      "2       AA0101    34538          0.0         0   NW 1999-02-01   7:54:38   \n",
      "3       AA0101    34539   23317894.0         2   PS 1999-02-01   8:09:16   \n",
      "4       AA0101    34540   48178511.0         2   PS 1999-02-01   8:19:42   \n",
      "...        ...      ...          ...       ...  ...        ...       ...   \n",
      "33339   AA0216     5607          0.0         0   IN 1999-02-26  14:14:43   \n",
      "33340   AA0216     5608          0.0         0   IN 1999-02-26  14:33:45   \n",
      "33341   AA0216     5609          0.0         0   IN 1999-02-28  11:29:39   \n",
      "33342   AA0216     5610          0.0         0   IN 1999-02-28  12:18:20   \n",
      "33343   AA0216     5611          0.0         0   IN 1999-02-28  16:01:22   \n",
      "\n",
      "       vru_exit  vru_time   q_start    q_exit  q_time outcome ser_start  \\\n",
      "0       7:02:56         9   0:00:00   0:00:00       0   AGENT   7:02:55   \n",
      "1       7:31:55        10   0:00:00   0:00:00       0   AGENT   7:31:54   \n",
      "2       7:54:51        13   0:00:00   0:00:00       0   AGENT   7:54:49   \n",
      "3       8:09:22         6   8:09:22   8:09:27       5    HANG   0:00:00   \n",
      "4       8:19:47         5   8:19:47   8:20:21      34   AGENT   8:20:20   \n",
      "...         ...       ...       ...       ...     ...     ...       ...   \n",
      "33339  14:15:05        22   0:00:00   0:00:00       0    HANG   0:00:00   \n",
      "33340  14:33:50         5   0:00:00   0:00:00       0    HANG   0:00:00   \n",
      "33341  11:29:48         9  11:29:48  11:33:39     231    HANG   0:00:00   \n",
      "33342  12:18:30        10  12:18:30  12:18:49      19   AGENT  12:18:48   \n",
      "33343  16:01:32        10  16:01:32  16:09:25     473    HANG   0:00:00   \n",
      "\n",
      "       ser_exit  ser_time     server  wait_time day_of_week  \n",
      "0       7:05:41       166      DORIT          9      Monday  \n",
      "1       7:31:59         5  NO_SERVER         10      Monday  \n",
      "2       7:56:21        92       TOVA         13      Monday  \n",
      "3       0:00:00         0  NO_SERVER         11      Monday  \n",
      "4       8:22:04       104     MICHAL         39      Monday  \n",
      "...         ...       ...        ...        ...         ...  \n",
      "33339   0:00:00         0  NO_SERVER         22      Friday  \n",
      "33340   0:00:00         0  NO_SERVER          5      Friday  \n",
      "33341   0:00:00         0  NO_SERVER        240      Sunday  \n",
      "33342  12:22:54       246       YITZ         29      Sunday  \n",
      "33343   0:00:00         0  NO_SERVER        483      Sunday  \n",
      "\n",
      "[33043 rows x 19 columns]>\n"
     ]
    }
   ],
   "source": [
    "call_center_data['day_of_week'] = \\\n",
    "\tcall_center_data['day_of_week'].map(day_of_week_to_string)\n",
    "# check structure and contents of the data frame\n",
    "print(call_center_data.head)"
   ],
   "metadata": {
    "collapsed": false,
    "pycharm": {
     "name": "#%%\n"
    }
   }
  },
  {
   "cell_type": "code",
   "execution_count": 93,
   "outputs": [
    {
     "name": "stdout",
     "output_type": "stream",
     "text": [
      "Tuesday      6339\n",
      "Wednesday    6289\n",
      "Sunday       6120\n",
      "Thursday     5785\n",
      "Monday       5722\n",
      "Friday       1931\n",
      "Saturday      857\n",
      "Name: day_of_week, dtype: int64\n"
     ]
    }
   ],
   "source": [
    "# examine frequency of calls by day of week\n",
    "print(call_center_data['day_of_week'].value_counts())"
   ],
   "metadata": {
    "collapsed": false,
    "pycharm": {
     "name": "#%%\n"
    }
   }
  },
  {
   "cell_type": "code",
   "execution_count": 94,
   "outputs": [
    {
     "name": "stdout",
     "output_type": "stream",
     "text": [
      "call_hour    0   1   2   3   4   5   6    7    8    9   ...   14   15   16  \\\n",
      "day_of_week                                             ...                  \n",
      "Friday       26   2   7   3   5   3  10   94  304  296  ...   80   26    8   \n",
      "Monday       13   8   1   1   0   4  26  174  394  471  ...  475  413  333   \n",
      "Saturday      0   2   0   0   0   0   0    0    0    5  ...    4    4    5   \n",
      "Sunday       20   7   2   1   0   3  14  147  410  456  ...  428  414  581   \n",
      "Thursday     25   2   2   0   0   5  21  147  327  400  ...  471  495  579   \n",
      "Tuesday      11   6   4   2   2   6  21  183  384  411  ...  464  483  556   \n",
      "Wednesday    27   7   5   0   2   1  19  158  389  430  ...  463  462  271   \n",
      "\n",
      "call_hour     17   18   19   20   21   22   23  \n",
      "day_of_week                                     \n",
      "Friday         4    5    3    8    3    0    1  \n",
      "Monday       262  363  258  250  208  190  191  \n",
      "Saturday       6   21  237  165  145  124  136  \n",
      "Sunday       494  302  244  169  364  259  133  \n",
      "Thursday     402  295  213  212  162  174  145  \n",
      "Tuesday      429  353  275  271  259  211  167  \n",
      "Wednesday    300  355  342  272  246  230  177  \n",
      "\n",
      "[7 rows x 24 columns]\n"
     ]
    }
   ],
   "source": [
    "# identify the hour of entry into the system\n",
    "call_center_data['vru_entry'] = \\\n",
    "\tcall_center_data['vru_entry'] \\\n",
    "\t\t.apply(lambda d: datetime.datetime.strptime(str(d), '%H:%M:%S'))\n",
    "call_center_data['call_hour'] = \\\n",
    "\tcall_center_data['vru_entry'].apply(lambda d: d.hour)\n",
    "\n",
    "# check frequency of calls in February by hour and day of week\n",
    "# note that pandas alphabetizes on output\n",
    "print(pd.crosstab(call_center_data['day_of_week'],\n",
    "                  call_center_data['call_hour'],\n",
    "                  margins=False))"
   ],
   "metadata": {
    "collapsed": false,
    "pycharm": {
     "name": "#%%\n"
    }
   }
  },
  {
   "cell_type": "code",
   "execution_count": 95,
   "outputs": [
    {
     "name": "stdout",
     "output_type": "stream",
     "text": [
      "pd.crosstab is \n",
      " call_hour            0   1   2   3   4   5   6    7    8    9   ...   14   15  \\\n",
      "ordered_day_of_week                                             ...             \n",
      "1_Sunday             20   7   2   1   0   3  14  147  410  456  ...  428  414   \n",
      "2_Monday             13   8   1   1   0   4  26  174  394  471  ...  475  413   \n",
      "3_Tuesday            11   6   4   2   2   6  21  183  384  411  ...  464  483   \n",
      "4_Wednesday          27   7   5   0   2   1  19  158  389  430  ...  463  462   \n",
      "5_Thursday           25   2   2   0   0   5  21  147  327  400  ...  471  495   \n",
      "6_Friday             26   2   7   3   5   3  10   94  304  296  ...   80   26   \n",
      "7_Saturday            0   2   0   0   0   0   0    0    0    5  ...    4    4   \n",
      "\n",
      "call_hour             16   17   18   19   20   21   22   23  \n",
      "ordered_day_of_week                                          \n",
      "1_Sunday             581  494  302  244  169  364  259  133  \n",
      "2_Monday             333  262  363  258  250  208  190  191  \n",
      "3_Tuesday            556  429  353  275  271  259  211  167  \n",
      "4_Wednesday          271  300  355  342  272  246  230  177  \n",
      "5_Thursday           579  402  295  213  212  162  174  145  \n",
      "6_Friday               8    4    5    3    8    3    0    1  \n",
      "7_Saturday             5    6   21  237  165  145  124  136  \n",
      "\n",
      "[7 rows x 24 columns]\n"
     ]
    }
   ],
   "source": [
    "# create an ordered table for Frequency of calls\n",
    "table_data = call_center_data.loc[:, ['day_of_week', 'call_hour']]\n",
    "day_of_week_to_ordered_day_of_week = {'Monday': '2_Monday',\n",
    "                                      'Tuesday': '3_Tuesday',\n",
    "                                      'Wednesday': '4_Wednesday',\n",
    "                                      'Thursday': '5_Thursday',\n",
    "                                      'Friday': '6_Friday',\n",
    "                                      'Saturday': '7_Saturday',\n",
    "                                      'Sunday': '1_Sunday'}\n",
    "\n",
    "table_data['ordered_day_of_week'] = \\\n",
    "\ttable_data['day_of_week'].map(day_of_week_to_ordered_day_of_week)\n",
    "print(\"pd.crosstab is \\n\", pd.crosstab(table_data['ordered_day_of_week'], \\\n",
    "                  table_data['call_hour'], margins=False))"
   ],
   "metadata": {
    "collapsed": false,
    "pycharm": {
     "name": "#%%\n"
    }
   }
  },
  {
   "cell_type": "code",
   "execution_count": 96,
   "outputs": [
    {
     "name": "stdout",
     "output_type": "stream",
     "text": [
      "pd.cross is \n",
      " pd.selected_week.head is <bound method NDFrame.head of       vru+line  call_id  customer_id  priority type       date  \\\n",
      "0       AA0101    34536          0.0         0   PS 1999-02-01   \n",
      "1       AA0101    34537          0.0         0   PS 1999-02-01   \n",
      "2       AA0101    34538          0.0         0   NW 1999-02-01   \n",
      "3       AA0101    34539   23317894.0         2   PS 1999-02-01   \n",
      "4       AA0101    34540   48178511.0         2   PS 1999-02-01   \n",
      "...        ...      ...          ...       ...  ...        ...   \n",
      "33236   AA0216     5504          0.0         0   IN 1999-02-07   \n",
      "33237   AA0216     5505          0.0         0   IN 1999-02-07   \n",
      "33238   AA0216     5506          0.0         0   IN 1999-02-07   \n",
      "33239   AA0216     5507          0.0         0   IN 1999-02-07   \n",
      "33240   AA0216     5508          0.0         0   IN 1999-02-07   \n",
      "\n",
      "                vru_entry  vru_exit  vru_time   q_start    q_exit  q_time  \\\n",
      "0     1900-01-01 07:02:47   7:02:56         9   0:00:00   0:00:00       0   \n",
      "1     1900-01-01 07:31:45   7:31:55        10   0:00:00   0:00:00       0   \n",
      "2     1900-01-01 07:54:38   7:54:51        13   0:00:00   0:00:00       0   \n",
      "3     1900-01-01 08:09:16   8:09:22         6   8:09:22   8:09:27       5   \n",
      "4     1900-01-01 08:19:42   8:19:47         5   8:19:47   8:20:21      34   \n",
      "...                   ...       ...       ...       ...       ...     ...   \n",
      "33236 1900-01-01 11:58:38  11:58:48        10  11:58:48  11:58:50       2   \n",
      "33237 1900-01-01 13:02:54  13:03:03         9  13:03:03  13:04:24      81   \n",
      "33238 1900-01-01 14:42:20  14:42:33        13   0:00:00   0:00:00       0   \n",
      "33239 1900-01-01 20:26:50  20:27:10        20   0:00:00   0:00:00       0   \n",
      "33240 1900-01-01 21:55:21  21:55:36        15   0:00:00   0:00:00       0   \n",
      "\n",
      "      outcome ser_start  ser_exit  ser_time     server  wait_time day_of_week  \\\n",
      "0       AGENT   7:02:55   7:05:41       166      DORIT          9      Monday   \n",
      "1       AGENT   7:31:54   7:31:59         5  NO_SERVER         10      Monday   \n",
      "2       AGENT   7:54:49   7:56:21        92       TOVA         13      Monday   \n",
      "3        HANG   0:00:00   0:00:00         0  NO_SERVER         11      Monday   \n",
      "4       AGENT   8:20:20   8:22:04       104     MICHAL         39      Monday   \n",
      "...       ...       ...       ...       ...        ...        ...         ...   \n",
      "33236   AGENT  11:58:50  12:03:26       276       YITZ         12      Sunday   \n",
      "33237    HANG   0:00:00   0:00:00         0  NO_SERVER         90      Sunday   \n",
      "33238   AGENT  14:42:32  14:57:50       918      YIFAT         13      Sunday   \n",
      "33239   AGENT  20:27:08  20:28:20        72     SHLOMO         20      Sunday   \n",
      "33240   AGENT  21:55:36  22:02:49       433       ANAT         15      Sunday   \n",
      "\n",
      "       call_hour  \n",
      "0              7  \n",
      "1              7  \n",
      "2              7  \n",
      "3              8  \n",
      "4              8  \n",
      "...          ...  \n",
      "33236         11  \n",
      "33237         13  \n",
      "33238         14  \n",
      "33239         20  \n",
      "33240         21  \n",
      "\n",
      "[8940 rows x 20 columns]>\n"
     ]
    }
   ],
   "source": [
    "# select first week of February 1999 for data visualization and analysis\n",
    "# that week began on Monday, February 1 and ended on Sunday, February 7\n",
    "selected_week = call_center_data[call_center_data['date'] < datetime.datetime(1999, 2, 8)]\n",
    "\n",
    "print(\"pd.cross is \\n\", \"pd.selected_week.head is\", selected_week.head)"
   ],
   "metadata": {
    "collapsed": false,
    "pycharm": {
     "name": "#%%\n"
    }
   }
  },
  {
   "cell_type": "code",
   "execution_count": 97,
   "outputs": [
    {
     "name": "stdout",
     "output_type": "stream",
     "text": [
      "<bound method NDFrame.head of       vru+line  call_id  customer_id  priority type       date  \\\n",
      "158     AA0101    34698          0.0         0   PS 1999-02-03   \n",
      "159     AA0101    34699   28626448.0         1   PS 1999-02-03   \n",
      "160     AA0101    34700          0.0         0   PS 1999-02-03   \n",
      "161     AA0101    34701          0.0         0   PS 1999-02-03   \n",
      "162     AA0101    34702          0.0         0   NW 1999-02-03   \n",
      "...        ...      ...          ...       ...  ...        ...   \n",
      "33325   AA0216     5593          0.0         0   IN 1999-02-24   \n",
      "33326   AA0216     5594          0.0         0   IN 1999-02-24   \n",
      "33327   AA0216     5595          0.0         0   IN 1999-02-24   \n",
      "33328   AA0216     5596          0.0         0   IN 1999-02-24   \n",
      "33329   AA0216     5597          0.0         0   IN 1999-02-24   \n",
      "\n",
      "                vru_entry  vru_exit  vru_time   q_start    q_exit  q_time  \\\n",
      "158   1900-01-01 06:58:30   6:59:08        38   0:00:00   0:00:00       0   \n",
      "159   1900-01-01 07:39:23   7:39:29         6   7:39:29   7:39:52      23   \n",
      "160   1900-01-01 08:04:54   8:05:06        12   0:00:00   0:00:00       0   \n",
      "161   1900-01-01 08:15:53   8:16:04        11   0:00:00   0:00:00       0   \n",
      "162   1900-01-01 08:29:11   8:29:25        14   0:00:00   0:00:00       0   \n",
      "...                   ...       ...       ...       ...       ...     ...   \n",
      "33325 1900-01-01 12:38:07  12:38:19        12   0:00:00   0:00:00       0   \n",
      "33326 1900-01-01 13:56:38  13:56:47         9  13:56:47  13:58:08      81   \n",
      "33327 1900-01-01 15:59:50  16:00:04        14   0:00:00   0:00:00       0   \n",
      "33328 1900-01-01 18:34:19  18:34:28         9  18:34:28  18:39:19     291   \n",
      "33329 1900-01-01 19:46:58  19:47:08        10  19:47:08  19:48:15      67   \n",
      "\n",
      "      outcome ser_start  ser_exit  ser_time     server  wait_time day_of_week  \\\n",
      "158      HANG   0:00:00   0:00:00         0  NO_SERVER         38   Wednesday   \n",
      "159     AGENT   7:39:52   7:40:37        45       IDIT         29   Wednesday   \n",
      "160     AGENT   8:05:06   8:05:10         4  NO_SERVER         12   Wednesday   \n",
      "161     AGENT   8:16:03   8:28:10       727     ZOHARI         11   Wednesday   \n",
      "162     AGENT   8:29:24   8:29:32         8       IDIT         14   Wednesday   \n",
      "...       ...       ...       ...       ...        ...        ...         ...   \n",
      "33325   AGENT  12:38:18  12:42:26       248      YIFAT         12   Wednesday   \n",
      "33326    HANG   0:00:00   0:00:00         0  NO_SERVER         90   Wednesday   \n",
      "33327   AGENT  16:00:03  16:05:23       320       YITZ         14   Wednesday   \n",
      "33328   AGENT  18:39:18  18:41:22       124    BENSION        300   Wednesday   \n",
      "33329    HANG   0:00:00   0:00:00         0  NO_SERVER         77   Wednesday   \n",
      "\n",
      "       call_hour  \n",
      "158            6  \n",
      "159            7  \n",
      "160            8  \n",
      "161            8  \n",
      "162            8  \n",
      "...          ...  \n",
      "33325         12  \n",
      "33326         13  \n",
      "33327         15  \n",
      "33328         18  \n",
      "33329         19  \n",
      "\n",
      "[6289 rows x 20 columns]>\n"
     ]
    }
   ],
   "source": [
    "# wait-time ribbons were created with R ggplot2 software\n",
    "# Python packages ggplot or rpy2 could be used for plotting\n",
    "\n",
    "# select Wednesdays in February for the queueing model\n",
    "wednesdays = call_center_data[call_center_data['day_of_week'] == \\\n",
    "                              'Wednesday']\n",
    "print(wednesdays.head)"
   ],
   "metadata": {
    "collapsed": false,
    "pycharm": {
     "name": "#%%\n"
    }
   }
  },
  {
   "cell_type": "code",
   "execution_count": 98,
   "outputs": [
    {
     "name": "stdout",
     "output_type": "stream",
     "text": [
      "13    203.50\n",
      "10    124.00\n",
      "14    115.75\n",
      "15    115.50\n",
      "11    110.25\n",
      "9     107.50\n",
      "8      97.25\n",
      "12     95.50\n",
      "18     88.75\n",
      "19     85.50\n",
      "17     75.00\n",
      "20     68.00\n",
      "16     67.75\n",
      "21     61.50\n",
      "22     57.50\n",
      "23     44.25\n",
      "7      39.50\n",
      "0       6.75\n",
      "6       4.75\n",
      "1       1.75\n",
      "2       1.25\n",
      "4       0.50\n",
      "5       0.25\n",
      "Name: call_hour, dtype: float64\n"
     ]
    }
   ],
   "source": [
    "# arrival rate as average number of calls into VRU per hour\n",
    "arrived_for_hour = wednesdays['call_hour'].value_counts()\n",
    "check_hourly_arrival_rate = arrived_for_hour / 4  # four Wednesdays in February 1999\n",
    "print(check_hourly_arrival_rate)"
   ],
   "metadata": {
    "collapsed": false,
    "pycharm": {
     "name": "#%%\n"
    }
   }
  },
  {
   "cell_type": "code",
   "execution_count": 99,
   "outputs": [
    {
     "name": "stdout",
     "output_type": "stream",
     "text": [
      "<bound method NDFrame.head of       vru+line  call_id  customer_id  priority type       date  \\\n",
      "159     AA0101    34699   28626448.0         1   PS 1999-02-03   \n",
      "161     AA0101    34701          0.0         0   PS 1999-02-03   \n",
      "162     AA0101    34702          0.0         0   NW 1999-02-03   \n",
      "163     AA0101    34703          0.0         0   NW 1999-02-03   \n",
      "164     AA0101    34704   59778696.0         1   PS 1999-02-03   \n",
      "...        ...      ...          ...       ...  ...        ...   \n",
      "33323   AA0216     5591          0.0         0   IN 1999-02-24   \n",
      "33324   AA0216     5592          0.0         0   IN 1999-02-24   \n",
      "33325   AA0216     5593          0.0         0   IN 1999-02-24   \n",
      "33327   AA0216     5595          0.0         0   IN 1999-02-24   \n",
      "33328   AA0216     5596          0.0         0   IN 1999-02-24   \n",
      "\n",
      "                vru_entry  vru_exit  vru_time   q_start    q_exit  q_time  \\\n",
      "159   1900-01-01 07:39:23   7:39:29         6   7:39:29   7:39:52      23   \n",
      "161   1900-01-01 08:15:53   8:16:04        11   0:00:00   0:00:00       0   \n",
      "162   1900-01-01 08:29:11   8:29:25        14   0:00:00   0:00:00       0   \n",
      "163   1900-01-01 08:36:44   8:36:53         9   8:36:53   8:40:08     195   \n",
      "164   1900-01-01 08:45:51   8:45:56         5   8:45:56   8:46:24      28   \n",
      "...                   ...       ...       ...       ...       ...     ...   \n",
      "33323 1900-01-01 11:33:47  11:33:57        10  11:33:57  11:36:22     145   \n",
      "33324 1900-01-01 12:18:00  12:18:15        15   0:00:00   0:00:00       0   \n",
      "33325 1900-01-01 12:38:07  12:38:19        12   0:00:00   0:00:00       0   \n",
      "33327 1900-01-01 15:59:50  16:00:04        14   0:00:00   0:00:00       0   \n",
      "33328 1900-01-01 18:34:19  18:34:28         9  18:34:28  18:39:19     291   \n",
      "\n",
      "      outcome ser_start  ser_exit  ser_time   server  wait_time day_of_week  \\\n",
      "159     AGENT   7:39:52   7:40:37        45     IDIT         29   Wednesday   \n",
      "161     AGENT   8:16:03   8:28:10       727   ZOHARI         11   Wednesday   \n",
      "162     AGENT   8:29:24   8:29:32         8     IDIT         14   Wednesday   \n",
      "163     AGENT   8:40:07   8:40:17        10    YIFAT        204   Wednesday   \n",
      "164     AGENT   8:46:23   8:47:08        45     IDIT         33   Wednesday   \n",
      "...       ...       ...       ...       ...      ...        ...         ...   \n",
      "33323   AGENT  11:36:21  11:37:40        79    YIFAT        155   Wednesday   \n",
      "33324   AGENT  12:18:14  12:19:31        77     YITZ         15   Wednesday   \n",
      "33325   AGENT  12:38:18  12:42:26       248    YIFAT         12   Wednesday   \n",
      "33327   AGENT  16:00:03  16:05:23       320     YITZ         14   Wednesday   \n",
      "33328   AGENT  18:39:18  18:41:22       124  BENSION        300   Wednesday   \n",
      "\n",
      "       call_hour  \n",
      "159            7  \n",
      "161            8  \n",
      "162            8  \n",
      "163            8  \n",
      "164            8  \n",
      "...          ...  \n",
      "33323         11  \n",
      "33324         12  \n",
      "33325         12  \n",
      "33327         15  \n",
      "33328         18  \n",
      "\n",
      "[4719 rows x 20 columns]>\n"
     ]
    }
   ],
   "source": [
    "# organize hourly arrival rates according to 24-hour clock\n",
    "hourly_arrival_rate = [6.75, 1.75, 1.25, 0.00, 0.50, 0.25,\n",
    "                       4.75, 39.50, 97.25, 107.50, 124.00, 110.25, 95.50,\n",
    "                       203.50, 115.75, 115.50, 67.75, 75.00, 88.75,\n",
    "                       85.50, 68.00, 61.50, 57.50, 44.25]\n",
    "\n",
    "# service times may vary hour-by-hour due to differences\n",
    "# in service requests and individuals calling hour-by-hour\n",
    "# begin by selecting calls that receive service\n",
    "wednesdays_served = wednesdays[wednesdays['server'] != 'NO_SERVER']\n",
    "print(wednesdays_served.head)\n",
    "\n"
   ],
   "metadata": {
    "collapsed": false,
    "pycharm": {
     "name": "#%%\n"
    }
   }
  },
  {
   "cell_type": "code",
   "execution_count": 100,
   "outputs": [
    {
     "name": "stdout",
     "output_type": "stream",
     "text": [
      "15    400\n",
      "10    393\n",
      "14    384\n",
      "9     339\n",
      "11    333\n",
      "13    327\n",
      "8     290\n",
      "19    290\n",
      "12    288\n",
      "18    284\n",
      "17    254\n",
      "16    250\n",
      "20    238\n",
      "21    204\n",
      "22    170\n",
      "23    144\n",
      "7     128\n",
      "6       3\n",
      "Name: call_hour, dtype: int64\n"
     ]
    }
   ],
   "source": [
    "hourly_mean_service_time = \\\n",
    "\twednesdays_served.pivot_table('ser_time', columns=['call_hour'], aggfunc='mean', margins=False)\n",
    "\n",
    "# hourly service rate given the current numbers of service operators\n",
    "served_for_hour = wednesdays_served['call_hour'].value_counts()\n",
    "print(served_for_hour)\n"
   ],
   "metadata": {
    "collapsed": false,
    "pycharm": {
     "name": "#%%\n"
    }
   }
  },
  {
   "cell_type": "code",
   "execution_count": 101,
   "outputs": [
    {
     "name": "stdout",
     "output_type": "stream",
     "text": [
      "\n",
      "Hourly Service Rate for Wednesdays: call_hour\n",
      "6      8.948\n",
      "7     17.951\n",
      "8     15.668\n",
      "9     13.239\n",
      "10    14.252\n",
      "11    13.185\n",
      "12    12.135\n",
      "13    14.290\n",
      "14    14.828\n",
      "15    15.000\n",
      "16    16.136\n",
      "17    16.754\n",
      "18    14.973\n",
      "19    15.353\n",
      "20    15.415\n",
      "21    15.425\n",
      "22    16.783\n",
      "23    17.666\n",
      "dtype: float64\n"
     ]
    }
   ],
   "source": [
    "# compute service rate noting that there are 3600 seconds in an hour\n",
    "# adding 60 seconds to each mean service time for time between calls\n",
    "# this 60 seconds is the wrap up time or time an service agent remains\n",
    "# unavailable to answer a new call after a call has been completed\n",
    "mean_hourly_service_rate = 3600 / (hourly_mean_service_time.mean() + 60)\n",
    "print('\\nHourly Service Rate for Wednesdays:', round(mean_hourly_service_rate, 3))"
   ],
   "metadata": {
    "collapsed": false,
    "pycharm": {
     "name": "#%%\n"
    }
   }
  },
  {
   "cell_type": "code",
   "execution_count": 102,
   "outputs": [
    {
     "name": "stdout",
     "output_type": "stream",
     "text": [
      "[1, 1, 1, 0, 1, 1, 1, 4, 8, 9, 10, 9, 8, 16, 10, 10, 6, 7, 8, 8, 6, 6, 5, 4]\n",
      "\n",
      "Hourly Operator Requirements:\n",
      " [0, 0, 0, 0, 0, 0, 1, 4, 8, 9, 10, 9, 8, 16, 10, 10, 6, 7, 8, 8, 6, 6, 5, 4]\n"
     ]
    },
    {
     "ename": "FileNotFoundError",
     "evalue": "[Errno 2] No such file or directory: 'data_anonymous_bank_shifts.csv'",
     "output_type": "error",
     "traceback": [
      "\u001B[0;31m---------------------------------------------------------------------------\u001B[0m",
      "\u001B[0;31mFileNotFoundError\u001B[0m                         Traceback (most recent call last)",
      "\u001B[0;32m/var/folders/v0/7gtj3bhx74z6w7kx78fhqlmm0000gn/T/ipykernel_87264/1783370822.py\u001B[0m in \u001B[0;36m<module>\u001B[0;34m\u001B[0m\n\u001B[1;32m     32\u001B[0m \u001B[0;34m\u001B[0m\u001B[0m\n\u001B[1;32m     33\u001B[0m \u001B[0;31m# read in case data for the structure of call center worker shifts\u001B[0m\u001B[0;34m\u001B[0m\u001B[0;34m\u001B[0m\u001B[0;34m\u001B[0m\u001B[0m\n\u001B[0;32m---> 34\u001B[0;31m \u001B[0mbank_shifts_data_frame\u001B[0m \u001B[0;34m=\u001B[0m \u001B[0mpd\u001B[0m\u001B[0;34m.\u001B[0m\u001B[0mread_csv\u001B[0m\u001B[0;34m(\u001B[0m\u001B[0;34m\"data_anonymous_bank_shifts.csv\"\u001B[0m\u001B[0;34m)\u001B[0m\u001B[0;34m\u001B[0m\u001B[0;34m\u001B[0m\u001B[0m\n\u001B[0m\u001B[1;32m     35\u001B[0m \u001B[0;31m# examine the structure of these data\u001B[0m\u001B[0;34m\u001B[0m\u001B[0;34m\u001B[0m\u001B[0;34m\u001B[0m\u001B[0m\n\u001B[1;32m     36\u001B[0m \u001B[0mprint\u001B[0m\u001B[0;34m(\u001B[0m\u001B[0mbank_shifts_data_frame\u001B[0m\u001B[0;34m.\u001B[0m\u001B[0mhead\u001B[0m\u001B[0;34m)\u001B[0m\u001B[0;34m\u001B[0m\u001B[0;34m\u001B[0m\u001B[0m\n",
      "\u001B[0;32m/Library/Frameworks/Python.framework/Versions/3.7/lib/python3.7/site-packages/pandas/util/_decorators.py\u001B[0m in \u001B[0;36mwrapper\u001B[0;34m(*args, **kwargs)\u001B[0m\n\u001B[1;32m    309\u001B[0m                     \u001B[0mstacklevel\u001B[0m\u001B[0;34m=\u001B[0m\u001B[0mstacklevel\u001B[0m\u001B[0;34m,\u001B[0m\u001B[0;34m\u001B[0m\u001B[0;34m\u001B[0m\u001B[0m\n\u001B[1;32m    310\u001B[0m                 )\n\u001B[0;32m--> 311\u001B[0;31m             \u001B[0;32mreturn\u001B[0m \u001B[0mfunc\u001B[0m\u001B[0;34m(\u001B[0m\u001B[0;34m*\u001B[0m\u001B[0margs\u001B[0m\u001B[0;34m,\u001B[0m \u001B[0;34m**\u001B[0m\u001B[0mkwargs\u001B[0m\u001B[0;34m)\u001B[0m\u001B[0;34m\u001B[0m\u001B[0;34m\u001B[0m\u001B[0m\n\u001B[0m\u001B[1;32m    312\u001B[0m \u001B[0;34m\u001B[0m\u001B[0m\n\u001B[1;32m    313\u001B[0m         \u001B[0;32mreturn\u001B[0m \u001B[0mwrapper\u001B[0m\u001B[0;34m\u001B[0m\u001B[0;34m\u001B[0m\u001B[0m\n",
      "\u001B[0;32m/Library/Frameworks/Python.framework/Versions/3.7/lib/python3.7/site-packages/pandas/io/parsers/readers.py\u001B[0m in \u001B[0;36mread_csv\u001B[0;34m(filepath_or_buffer, sep, delimiter, header, names, index_col, usecols, squeeze, prefix, mangle_dupe_cols, dtype, engine, converters, true_values, false_values, skipinitialspace, skiprows, skipfooter, nrows, na_values, keep_default_na, na_filter, verbose, skip_blank_lines, parse_dates, infer_datetime_format, keep_date_col, date_parser, dayfirst, cache_dates, iterator, chunksize, compression, thousands, decimal, lineterminator, quotechar, quoting, doublequote, escapechar, comment, encoding, encoding_errors, dialect, error_bad_lines, warn_bad_lines, on_bad_lines, delim_whitespace, low_memory, memory_map, float_precision, storage_options)\u001B[0m\n\u001B[1;32m    584\u001B[0m     \u001B[0mkwds\u001B[0m\u001B[0;34m.\u001B[0m\u001B[0mupdate\u001B[0m\u001B[0;34m(\u001B[0m\u001B[0mkwds_defaults\u001B[0m\u001B[0;34m)\u001B[0m\u001B[0;34m\u001B[0m\u001B[0;34m\u001B[0m\u001B[0m\n\u001B[1;32m    585\u001B[0m \u001B[0;34m\u001B[0m\u001B[0m\n\u001B[0;32m--> 586\u001B[0;31m     \u001B[0;32mreturn\u001B[0m \u001B[0m_read\u001B[0m\u001B[0;34m(\u001B[0m\u001B[0mfilepath_or_buffer\u001B[0m\u001B[0;34m,\u001B[0m \u001B[0mkwds\u001B[0m\u001B[0;34m)\u001B[0m\u001B[0;34m\u001B[0m\u001B[0;34m\u001B[0m\u001B[0m\n\u001B[0m\u001B[1;32m    587\u001B[0m \u001B[0;34m\u001B[0m\u001B[0m\n\u001B[1;32m    588\u001B[0m \u001B[0;34m\u001B[0m\u001B[0m\n",
      "\u001B[0;32m/Library/Frameworks/Python.framework/Versions/3.7/lib/python3.7/site-packages/pandas/io/parsers/readers.py\u001B[0m in \u001B[0;36m_read\u001B[0;34m(filepath_or_buffer, kwds)\u001B[0m\n\u001B[1;32m    480\u001B[0m \u001B[0;34m\u001B[0m\u001B[0m\n\u001B[1;32m    481\u001B[0m     \u001B[0;31m# Create the parser.\u001B[0m\u001B[0;34m\u001B[0m\u001B[0;34m\u001B[0m\u001B[0;34m\u001B[0m\u001B[0m\n\u001B[0;32m--> 482\u001B[0;31m     \u001B[0mparser\u001B[0m \u001B[0;34m=\u001B[0m \u001B[0mTextFileReader\u001B[0m\u001B[0;34m(\u001B[0m\u001B[0mfilepath_or_buffer\u001B[0m\u001B[0;34m,\u001B[0m \u001B[0;34m**\u001B[0m\u001B[0mkwds\u001B[0m\u001B[0;34m)\u001B[0m\u001B[0;34m\u001B[0m\u001B[0;34m\u001B[0m\u001B[0m\n\u001B[0m\u001B[1;32m    483\u001B[0m \u001B[0;34m\u001B[0m\u001B[0m\n\u001B[1;32m    484\u001B[0m     \u001B[0;32mif\u001B[0m \u001B[0mchunksize\u001B[0m \u001B[0;32mor\u001B[0m \u001B[0miterator\u001B[0m\u001B[0;34m:\u001B[0m\u001B[0;34m\u001B[0m\u001B[0;34m\u001B[0m\u001B[0m\n",
      "\u001B[0;32m/Library/Frameworks/Python.framework/Versions/3.7/lib/python3.7/site-packages/pandas/io/parsers/readers.py\u001B[0m in \u001B[0;36m__init__\u001B[0;34m(self, f, engine, **kwds)\u001B[0m\n\u001B[1;32m    809\u001B[0m             \u001B[0mself\u001B[0m\u001B[0;34m.\u001B[0m\u001B[0moptions\u001B[0m\u001B[0;34m[\u001B[0m\u001B[0;34m\"has_index_names\"\u001B[0m\u001B[0;34m]\u001B[0m \u001B[0;34m=\u001B[0m \u001B[0mkwds\u001B[0m\u001B[0;34m[\u001B[0m\u001B[0;34m\"has_index_names\"\u001B[0m\u001B[0;34m]\u001B[0m\u001B[0;34m\u001B[0m\u001B[0;34m\u001B[0m\u001B[0m\n\u001B[1;32m    810\u001B[0m \u001B[0;34m\u001B[0m\u001B[0m\n\u001B[0;32m--> 811\u001B[0;31m         \u001B[0mself\u001B[0m\u001B[0;34m.\u001B[0m\u001B[0m_engine\u001B[0m \u001B[0;34m=\u001B[0m \u001B[0mself\u001B[0m\u001B[0;34m.\u001B[0m\u001B[0m_make_engine\u001B[0m\u001B[0;34m(\u001B[0m\u001B[0mself\u001B[0m\u001B[0;34m.\u001B[0m\u001B[0mengine\u001B[0m\u001B[0;34m)\u001B[0m\u001B[0;34m\u001B[0m\u001B[0;34m\u001B[0m\u001B[0m\n\u001B[0m\u001B[1;32m    812\u001B[0m \u001B[0;34m\u001B[0m\u001B[0m\n\u001B[1;32m    813\u001B[0m     \u001B[0;32mdef\u001B[0m \u001B[0mclose\u001B[0m\u001B[0;34m(\u001B[0m\u001B[0mself\u001B[0m\u001B[0;34m)\u001B[0m\u001B[0;34m:\u001B[0m\u001B[0;34m\u001B[0m\u001B[0;34m\u001B[0m\u001B[0m\n",
      "\u001B[0;32m/Library/Frameworks/Python.framework/Versions/3.7/lib/python3.7/site-packages/pandas/io/parsers/readers.py\u001B[0m in \u001B[0;36m_make_engine\u001B[0;34m(self, engine)\u001B[0m\n\u001B[1;32m   1038\u001B[0m             )\n\u001B[1;32m   1039\u001B[0m         \u001B[0;31m# error: Too many arguments for \"ParserBase\"\u001B[0m\u001B[0;34m\u001B[0m\u001B[0;34m\u001B[0m\u001B[0;34m\u001B[0m\u001B[0m\n\u001B[0;32m-> 1040\u001B[0;31m         \u001B[0;32mreturn\u001B[0m \u001B[0mmapping\u001B[0m\u001B[0;34m[\u001B[0m\u001B[0mengine\u001B[0m\u001B[0;34m]\u001B[0m\u001B[0;34m(\u001B[0m\u001B[0mself\u001B[0m\u001B[0;34m.\u001B[0m\u001B[0mf\u001B[0m\u001B[0;34m,\u001B[0m \u001B[0;34m**\u001B[0m\u001B[0mself\u001B[0m\u001B[0;34m.\u001B[0m\u001B[0moptions\u001B[0m\u001B[0;34m)\u001B[0m  \u001B[0;31m# type: ignore[call-arg]\u001B[0m\u001B[0;34m\u001B[0m\u001B[0;34m\u001B[0m\u001B[0m\n\u001B[0m\u001B[1;32m   1041\u001B[0m \u001B[0;34m\u001B[0m\u001B[0m\n\u001B[1;32m   1042\u001B[0m     \u001B[0;32mdef\u001B[0m \u001B[0m_failover_to_python\u001B[0m\u001B[0;34m(\u001B[0m\u001B[0mself\u001B[0m\u001B[0;34m)\u001B[0m\u001B[0;34m:\u001B[0m\u001B[0;34m\u001B[0m\u001B[0;34m\u001B[0m\u001B[0m\n",
      "\u001B[0;32m/Library/Frameworks/Python.framework/Versions/3.7/lib/python3.7/site-packages/pandas/io/parsers/c_parser_wrapper.py\u001B[0m in \u001B[0;36m__init__\u001B[0;34m(self, src, **kwds)\u001B[0m\n\u001B[1;32m     49\u001B[0m \u001B[0;34m\u001B[0m\u001B[0m\n\u001B[1;32m     50\u001B[0m         \u001B[0;31m# open handles\u001B[0m\u001B[0;34m\u001B[0m\u001B[0;34m\u001B[0m\u001B[0;34m\u001B[0m\u001B[0m\n\u001B[0;32m---> 51\u001B[0;31m         \u001B[0mself\u001B[0m\u001B[0;34m.\u001B[0m\u001B[0m_open_handles\u001B[0m\u001B[0;34m(\u001B[0m\u001B[0msrc\u001B[0m\u001B[0;34m,\u001B[0m \u001B[0mkwds\u001B[0m\u001B[0;34m)\u001B[0m\u001B[0;34m\u001B[0m\u001B[0;34m\u001B[0m\u001B[0m\n\u001B[0m\u001B[1;32m     52\u001B[0m         \u001B[0;32massert\u001B[0m \u001B[0mself\u001B[0m\u001B[0;34m.\u001B[0m\u001B[0mhandles\u001B[0m \u001B[0;32mis\u001B[0m \u001B[0;32mnot\u001B[0m \u001B[0;32mNone\u001B[0m\u001B[0;34m\u001B[0m\u001B[0;34m\u001B[0m\u001B[0m\n\u001B[1;32m     53\u001B[0m \u001B[0;34m\u001B[0m\u001B[0m\n",
      "\u001B[0;32m/Library/Frameworks/Python.framework/Versions/3.7/lib/python3.7/site-packages/pandas/io/parsers/base_parser.py\u001B[0m in \u001B[0;36m_open_handles\u001B[0;34m(self, src, kwds)\u001B[0m\n\u001B[1;32m    227\u001B[0m             \u001B[0mmemory_map\u001B[0m\u001B[0;34m=\u001B[0m\u001B[0mkwds\u001B[0m\u001B[0;34m.\u001B[0m\u001B[0mget\u001B[0m\u001B[0;34m(\u001B[0m\u001B[0;34m\"memory_map\"\u001B[0m\u001B[0;34m,\u001B[0m \u001B[0;32mFalse\u001B[0m\u001B[0;34m)\u001B[0m\u001B[0;34m,\u001B[0m\u001B[0;34m\u001B[0m\u001B[0;34m\u001B[0m\u001B[0m\n\u001B[1;32m    228\u001B[0m             \u001B[0mstorage_options\u001B[0m\u001B[0;34m=\u001B[0m\u001B[0mkwds\u001B[0m\u001B[0;34m.\u001B[0m\u001B[0mget\u001B[0m\u001B[0;34m(\u001B[0m\u001B[0;34m\"storage_options\"\u001B[0m\u001B[0;34m,\u001B[0m \u001B[0;32mNone\u001B[0m\u001B[0;34m)\u001B[0m\u001B[0;34m,\u001B[0m\u001B[0;34m\u001B[0m\u001B[0;34m\u001B[0m\u001B[0m\n\u001B[0;32m--> 229\u001B[0;31m             \u001B[0merrors\u001B[0m\u001B[0;34m=\u001B[0m\u001B[0mkwds\u001B[0m\u001B[0;34m.\u001B[0m\u001B[0mget\u001B[0m\u001B[0;34m(\u001B[0m\u001B[0;34m\"encoding_errors\"\u001B[0m\u001B[0;34m,\u001B[0m \u001B[0;34m\"strict\"\u001B[0m\u001B[0;34m)\u001B[0m\u001B[0;34m,\u001B[0m\u001B[0;34m\u001B[0m\u001B[0;34m\u001B[0m\u001B[0m\n\u001B[0m\u001B[1;32m    230\u001B[0m         )\n\u001B[1;32m    231\u001B[0m \u001B[0;34m\u001B[0m\u001B[0m\n",
      "\u001B[0;32m/Library/Frameworks/Python.framework/Versions/3.7/lib/python3.7/site-packages/pandas/io/common.py\u001B[0m in \u001B[0;36mget_handle\u001B[0;34m(path_or_buf, mode, encoding, compression, memory_map, is_text, errors, storage_options)\u001B[0m\n\u001B[1;32m    705\u001B[0m                 \u001B[0mencoding\u001B[0m\u001B[0;34m=\u001B[0m\u001B[0mioargs\u001B[0m\u001B[0;34m.\u001B[0m\u001B[0mencoding\u001B[0m\u001B[0;34m,\u001B[0m\u001B[0;34m\u001B[0m\u001B[0;34m\u001B[0m\u001B[0m\n\u001B[1;32m    706\u001B[0m                 \u001B[0merrors\u001B[0m\u001B[0;34m=\u001B[0m\u001B[0merrors\u001B[0m\u001B[0;34m,\u001B[0m\u001B[0;34m\u001B[0m\u001B[0;34m\u001B[0m\u001B[0m\n\u001B[0;32m--> 707\u001B[0;31m                 \u001B[0mnewline\u001B[0m\u001B[0;34m=\u001B[0m\u001B[0;34m\"\"\u001B[0m\u001B[0;34m,\u001B[0m\u001B[0;34m\u001B[0m\u001B[0;34m\u001B[0m\u001B[0m\n\u001B[0m\u001B[1;32m    708\u001B[0m             )\n\u001B[1;32m    709\u001B[0m         \u001B[0;32melse\u001B[0m\u001B[0;34m:\u001B[0m\u001B[0;34m\u001B[0m\u001B[0;34m\u001B[0m\u001B[0m\n",
      "\u001B[0;31mFileNotFoundError\u001B[0m: [Errno 2] No such file or directory: 'data_anonymous_bank_shifts.csv'"
     ]
    }
   ],
   "source": [
    "\n",
    "# use 15 calls per hour as the rate for one service operator\n",
    "SERVICE_RATE = 15\n",
    "\n",
    "# use a target for the probability of waiting in queue to be 0.50\n",
    "PROBABILITY_GOAL = 0.50\n",
    "\n",
    "# Erlang C queueing calculations with Python erlang_c function\n",
    "# inputs c = number of servers\n",
    "#        r = ratio of rate of arrivals and rate of service\n",
    "# returns the probability of waiting in queue because all servers are busy\n",
    "# use while-loop iteration to determine the number of servers needed\n",
    "# we do this for each hour of the day knowing the hourly arrival rate\n",
    "servers_needed = [0] * 24\n",
    "for index_for_hour in range(24):\n",
    "\tif hourly_arrival_rate[index_for_hour] > 0:\n",
    "\t\terlang_probability = 1  # initialize on entering while-loop\n",
    "\t\twhile erlang_probability > PROBABILITY_GOAL:\n",
    "\t\t\tservers_needed[index_for_hour] = servers_needed[index_for_hour] + 1\n",
    "\t\t\terlang_probability = \\\n",
    "\t\t\t\terlang_c(c=servers_needed[index_for_hour],\n",
    "\t\t\t\t         r=hourly_arrival_rate[index_for_hour] / SERVICE_RATE)\n",
    "\n",
    "\n",
    "print(servers_needed)  # check queueing theory result\n",
    "# the result for servers.needed is obtained as\n",
    "# 1  1  1  0  1  1  1  4  8  9 10  9  8 16 10 10  6  7  8  8  6  6  5  4\n",
    "# we will assume the bank call center will be closed hours 00 through 05\n",
    "# but use the other values as the bank's needed numbers of servers\n",
    "for index_for_hour in range(6):\n",
    "\tservers_needed[index_for_hour] = 0\n",
    "print('\\nHourly Operator Requirements:\\n', servers_needed)\n",
    "\n",
    "# read in case data for the structure of call center worker shifts\n",
    "bank_shifts_data_frame = pd.read_csv(\"data_anonymous_bank_shifts.csv\")\n",
    "# examine the structure of these data\n",
    "print(bank_shifts_data_frame.head)\n",
    "\n",
    "# constraint matrix as required for mathematical programming\n",
    "constraint_matrix = np.array(bank_shifts_data_frame)[:, 2:]\n",
    "# we will create this type of object on the R side as well\n",
    "\n",
    "# six-hour shift salaries in Israeli sheqels\n",
    "# 1 ILS = 3.61 USD in June 2013\n",
    "# these go into the objective function for integer programing\n",
    "# with the objective of minimizing total costs\n",
    "cost_vector = [252, 288, 180, 180, 180, 288, 288, 288]\n",
    "\n",
    "# install lpsolove package and drivers for Python\n",
    "# noting the operating system being used\n",
    "# or use rpy2 access to lpSolve in R as shown here\n",
    "\n",
    "# assign lists from Python to R using rpy2\n",
    "r.assign('servers_needed_R', servers_needed)\n",
    "r.assign('cost_vector_R', cost_vector)\n",
    "\n",
    "r('bank.shifts.data.frame <- read.csv(\"data_anonymous_bank_shifts.csv\")')\n",
    "r('constraint_matrix_R <- as.matrix(bank.shifts.data.frame[,3:10])')\n",
    "\n",
    "# check mathematical programming inputs on the R side\n",
    "r('print(as.numeric(unlist(servers_needed_R)))')\n",
    "r('print(as.numeric(unlist(cost_vector_R)))')\n",
    "r('print(constraint_matrix_R)')\n",
    "\n",
    "# solve the mathematical programming problem\n",
    "r('library(lpSolve)')\n",
    "r('call_center_schedule <- lp(const.mat=constraint_matrix_R,\\\n",
    "    const.rhs = as.numeric(unlist(servers_needed_R)),\\\n",
    "    const.dir = rep(\">=\", times = 8),\\\n",
    "    int.vec = 1:8,\\\n",
    "    objective = as.numeric(unlist(cost_vector_R)),\\\n",
    "    direction = \"min\")')\n",
    "\n",
    "# prepare summary of the results for the call center problem\n",
    "# working on the R side\n",
    "r('ShiftID <- 1:8')\n",
    "r('StartTime <- c(0,6,8,10,12,2,4,6)')\n",
    "# c(\"Midnight\",\"6 AM\",\"8 AM\",\"10 AM\",\"Noon\",\"2 PM\",\"4 PM\",\"6 PM\")\n",
    "r('ShiftDuration <- rep(6,times=8)')\n",
    "r('HourlyShiftSalary <- c(42,48,30,30,30,48,48,48)')\n",
    "r('HourlyShiftCost <- call_center_schedule$objective')  # six x hourly shift salary\n",
    "r('Solution <- call_center_schedule$solution')\n",
    "r('ShiftCost <- call_center_schedule$solution * call_center_schedule$objective')\n",
    "r('call_center_summary <- \\\n",
    "  data.frame(ShiftID,StartTime,ShiftDuration,HourlyShiftSalary,\\\n",
    "  HourlyShiftCost,Solution,ShiftCost)')\n",
    "r('cat(\"\\n\\n\",\"Call Center Summary\",\"\\n\\n\")')\n",
    "r('print(call_center_summary)')\n",
    "r('print(call_center_schedule)')\n",
    "\n",
    "# alternatively... bring the solution from R to Python\n",
    "# and print the minimum-cost solution on the Python side\n",
    "call_center_schedule = r('call_center_schedule')\n",
    "print(call_center_schedule)\n",
    "\n",
    "# Suggestion for the student:\n",
    "# Attack the problem using discrete event simulation,\n",
    "# perhaps drawing on the SimPy package.\n",
    "# Try running a sensitivity test, varying the workforce requirements\n",
    "# and noting the effect upon the optimal assignment of workers to shifts.\n",
    "# This can be done in a Python for-loop.\n"
   ],
   "metadata": {
    "collapsed": false,
    "pycharm": {
     "name": "#%%\n"
    }
   }
  }
 ],
 "metadata": {
  "kernelspec": {
   "display_name": "Python 3",
   "language": "python",
   "name": "python3"
  },
  "language_info": {
   "codemirror_mode": {
    "name": "ipython",
    "version": 2
   },
   "file_extension": ".py",
   "mimetype": "text/x-python",
   "name": "python",
   "nbconvert_exporter": "python",
   "pygments_lexer": "ipython2",
   "version": "2.7.6"
  }
 },
 "nbformat": 4,
 "nbformat_minor": 0
}